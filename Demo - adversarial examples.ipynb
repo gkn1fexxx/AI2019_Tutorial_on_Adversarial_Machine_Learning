{
 "cells": [
  {
   "cell_type": "markdown",
   "metadata": {},
   "source": [
    "# Adversarial Examples: a simple demo on MNIST with a 4-layer concolutional neural network (CNN)\n",
    "\n",
    "Adversarial examples are slight perturbed inputs in a way to fool a neural network.\n",
    "\n",
    "Here is the famous \"panda->gibbon\" example:\n",
    "\n",
    "<img src=\"images/adversarial_example.jpg\" width=\"600\">\n",
    "\n",
    "This demo shows how to train a simple deep neural network and trick the network with adversarial examples. A simple 4 layer neural network will be trained to recognize handwritten digits (MNIST). We then will use the Fast Gradient Sign Mehtod (FGSM) to craft adversarial examples based on a test image.\n",
    "\n",
    "<img src=\"images/mnist_advs.png\" width=\"600\">\n",
    "\n",
    "(The demo is implemented by Daniel (Xingjun) Ma for [AI2019 Adversarial Machine Learning Tutorial](http://nugget.unisa.edu.au/AI2019/index.php)."
   ]
  },
  {
   "cell_type": "markdown",
   "metadata": {},
   "source": [
    "# Load dataset\n",
    "### Load MNIST data"
   ]
  },
  {
   "cell_type": "code",
   "execution_count": 27,
   "metadata": {},
   "outputs": [],
   "source": [
    "from keras.datasets import mnist\n",
    "(X_train, y_train), (X_test, y_test) = mnist.load_data()"
   ]
  },
  {
   "cell_type": "markdown",
   "metadata": {},
   "source": [
    "### reshape to (n_samples, 28, 28, 1)"
   ]
  },
  {
   "cell_type": "code",
   "execution_count": 28,
   "metadata": {},
   "outputs": [],
   "source": [
    "X_train = X_train.reshape(-1, 28, 28, 1)\n",
    "X_test = X_test.reshape(-1, 28, 28, 1)"
   ]
  },
  {
   "cell_type": "markdown",
   "metadata": {},
   "source": [
    "### cast pixels to floats, normalize to [0, 1] range"
   ]
  },
  {
   "cell_type": "code",
   "execution_count": 29,
   "metadata": {},
   "outputs": [],
   "source": [
    "X_train = X_train.astype('float32')\n",
    "X_test = X_test.astype('float32')\n",
    "\n",
    "X_train = (X_train / 255.0)\n",
    "X_test = (X_test / 255.0)"
   ]
  },
  {
   "cell_type": "markdown",
   "metadata": {},
   "source": [
    "### one-hot encoding the class labels"
   ]
  },
  {
   "cell_type": "code",
   "execution_count": 30,
   "metadata": {},
   "outputs": [],
   "source": [
    "from keras.utils import np_utils\n",
    "# one-hot encoding the class labels\n",
    "Y_train = np_utils.to_categorical(y_train, 10)\n",
    "Y_test = np_utils.to_categorical(y_test, 10)"
   ]
  },
  {
   "cell_type": "code",
   "execution_count": 31,
   "metadata": {},
   "outputs": [
    {
     "name": "stdout",
     "output_type": "stream",
     "text": [
      "X_train: (60000, 28, 28, 1)\n",
      "Y_train: (60000, 10)\n",
      "X_test: (10000, 28, 28, 1)\n",
      "Y_test (10000, 10)\n"
     ]
    }
   ],
   "source": [
    "print(\"X_train:\", X_train.shape)\n",
    "print(\"Y_train:\", Y_train.shape)\n",
    "print(\"X_test:\", X_test.shape)\n",
    "print(\"Y_test\", Y_test.shape)"
   ]
  },
  {
   "cell_type": "markdown",
   "metadata": {},
   "source": [
    "# Build a 4-layer convolutional nerual network\n",
    "### Create the network"
   ]
  },
  {
   "cell_type": "code",
   "execution_count": 57,
   "metadata": {},
   "outputs": [],
   "source": [
    "# load the keras layers\n",
    "from keras.layers import Input, Conv2D, Dense, MaxPooling2D, Dropout, \\\n",
    "    Flatten, Activation, BatchNormalization, Activation, AvgPool2D\n",
    "from keras.models import Model\n",
    "\n",
    "img_input = Input(shape=(28, 28, 1))\n",
    "\n",
    "x = Conv2D(32, (3, 3), padding='same', kernel_initializer=\"he_normal\", name='conv1')(img_input)\n",
    "x = BatchNormalization()(x)\n",
    "x = Activation('relu')(x)\n",
    "x = AvgPool2D((2, 2), strides=(2, 2), name='pool1')(x)\n",
    "\n",
    "x = Conv2D(64, (3, 3), padding='same', kernel_initializer=\"he_normal\", name='conv2')(x)\n",
    "x = BatchNormalization()(x)\n",
    "x = Activation('relu')(x)\n",
    "x = AvgPool2D((2, 2), strides=(2, 2), name='pool2')(x)\n",
    "\n",
    "x = Flatten(name='flatten')(x)\n",
    "\n",
    "x = Dense(128, kernel_initializer=\"he_normal\", name='features')(x)\n",
    "\n",
    "x = Dense(10, name='logits')(x)\n",
    "x = Activation(\"softmax\")(x)\n",
    "\n",
    "model = Model(img_input, x)"
   ]
  },
  {
   "cell_type": "markdown",
   "metadata": {},
   "source": [
    "### Check the structure of the network"
   ]
  },
  {
   "cell_type": "code",
   "execution_count": 33,
   "metadata": {},
   "outputs": [
    {
     "name": "stdout",
     "output_type": "stream",
     "text": [
      "_________________________________________________________________\n",
      "Layer (type)                 Output Shape              Param #   \n",
      "=================================================================\n",
      "input_7 (InputLayer)         (None, 28, 28, 1)         0         \n",
      "_________________________________________________________________\n",
      "conv1 (Conv2D)               (None, 28, 28, 32)        320       \n",
      "_________________________________________________________________\n",
      "batch_normalization_6 (Batch (None, 28, 28, 32)        128       \n",
      "_________________________________________________________________\n",
      "activation_8 (Activation)    (None, 28, 28, 32)        0         \n",
      "_________________________________________________________________\n",
      "pool1 (AveragePooling2D)     (None, 14, 14, 32)        0         \n",
      "_________________________________________________________________\n",
      "conv2 (Conv2D)               (None, 14, 14, 64)        18496     \n",
      "_________________________________________________________________\n",
      "batch_normalization_7 (Batch (None, 14, 14, 64)        256       \n",
      "_________________________________________________________________\n",
      "activation_9 (Activation)    (None, 14, 14, 64)        0         \n",
      "_________________________________________________________________\n",
      "pool2 (AveragePooling2D)     (None, 7, 7, 64)          0         \n",
      "_________________________________________________________________\n",
      "flatten (Flatten)            (None, 3136)              0         \n",
      "_________________________________________________________________\n",
      "features (Dense)             (None, 128)               401536    \n",
      "_________________________________________________________________\n",
      "logits (Dense)               (None, 10)                1290      \n",
      "_________________________________________________________________\n",
      "activation_10 (Activation)   (None, 10)                0         \n",
      "=================================================================\n",
      "Total params: 422,026\n",
      "Trainable params: 421,834\n",
      "Non-trainable params: 192\n",
      "_________________________________________________________________\n"
     ]
    }
   ],
   "source": [
    "model.summary()"
   ]
  },
  {
   "cell_type": "markdown",
   "metadata": {},
   "source": [
    "### Create the optimizer"
   ]
  },
  {
   "cell_type": "code",
   "execution_count": 34,
   "metadata": {},
   "outputs": [],
   "source": [
    "from keras.optimizers import Adam, SGD\n",
    "# optimizer = SGD(lr=0.01, decay=1e-4, momentum=0.9)\n",
    "optimizer = Adam(learning_rate=0.001, beta_1=0.9, beta_2=0.999, amsgrad=False)"
   ]
  },
  {
   "cell_type": "markdown",
   "metadata": {},
   "source": [
    "### Compile the model"
   ]
  },
  {
   "cell_type": "code",
   "execution_count": 58,
   "metadata": {},
   "outputs": [],
   "source": [
    "model.compile(\n",
    "    loss='categorical_crossentropy',\n",
    "    optimizer=optimizer,\n",
    "    metrics=['accuracy']\n",
    ")"
   ]
  },
  {
   "cell_type": "markdown",
   "metadata": {},
   "source": [
    "### Train the model for 10 epochs with batch size 128"
   ]
  },
  {
   "cell_type": "code",
   "execution_count": 36,
   "metadata": {},
   "outputs": [
    {
     "name": "stdout",
     "output_type": "stream",
     "text": [
      "Train on 60000 samples, validate on 10000 samples\n",
      "Epoch 1/10\n",
      "60000/60000 [==============================] - 162s 3ms/step - loss: 0.1634 - acc: 0.9491 - val_loss: 0.0729 - val_acc: 0.9766\n",
      "Epoch 2/10\n",
      "60000/60000 [==============================] - 143s 2ms/step - loss: 0.0599 - acc: 0.9817 - val_loss: 0.0511 - val_acc: 0.9833\n",
      "Epoch 3/10\n",
      "60000/60000 [==============================] - 144s 2ms/step - loss: 0.0457 - acc: 0.9859 - val_loss: 0.0381 - val_acc: 0.9881\n",
      "Epoch 4/10\n",
      "60000/60000 [==============================] - 129s 2ms/step - loss: 0.0385 - acc: 0.9879 - val_loss: 0.0402 - val_acc: 0.9876\n",
      "Epoch 5/10\n",
      "60000/60000 [==============================] - 129s 2ms/step - loss: 0.0336 - acc: 0.9897 - val_loss: 0.0359 - val_acc: 0.9877\n",
      "Epoch 6/10\n",
      "60000/60000 [==============================] - 128s 2ms/step - loss: 0.0300 - acc: 0.9907 - val_loss: 0.0339 - val_acc: 0.9883\n",
      "Epoch 7/10\n",
      "60000/60000 [==============================] - 128s 2ms/step - loss: 0.0260 - acc: 0.9921 - val_loss: 0.0301 - val_acc: 0.9908\n",
      "Epoch 8/10\n",
      "60000/60000 [==============================] - 130s 2ms/step - loss: 0.0238 - acc: 0.9927 - val_loss: 0.0299 - val_acc: 0.9896\n",
      "Epoch 9/10\n",
      "60000/60000 [==============================] - 151s 3ms/step - loss: 0.0223 - acc: 0.9933 - val_loss: 0.0334 - val_acc: 0.9898\n",
      "Epoch 10/10\n",
      "60000/60000 [==============================] - 141s 2ms/step - loss: 0.0198 - acc: 0.9942 - val_loss: 0.0288 - val_acc: 0.9906\n"
     ]
    },
    {
     "data": {
      "text/plain": [
       "<keras.callbacks.History at 0x12bb562b0>"
      ]
     },
     "execution_count": 36,
     "metadata": {},
     "output_type": "execute_result"
    }
   ],
   "source": [
    "model.fit(X_train, Y_train,\n",
    "          batch_size=128,\n",
    "          epochs=10,\n",
    "          verbose=1,\n",
    "          validation_data=(X_test, Y_test))\n"
   ]
  },
  {
   "cell_type": "markdown",
   "metadata": {},
   "source": [
    "### Save/load the trained model"
   ]
  },
  {
   "cell_type": "code",
   "execution_count": 59,
   "metadata": {},
   "outputs": [],
   "source": [
    "# model.save_weights('model/mnist.h5')\n",
    "model.load_weights('model/mnist.h5')"
   ]
  },
  {
   "cell_type": "markdown",
   "metadata": {},
   "source": [
    "### Evaluate the model"
   ]
  },
  {
   "cell_type": "code",
   "execution_count": 39,
   "metadata": {},
   "outputs": [],
   "source": [
    "_, test_acc = model.evaluate(X_test, Y_test, verbose=0)"
   ]
  },
  {
   "cell_type": "code",
   "execution_count": 41,
   "metadata": {},
   "outputs": [
    {
     "name": "stdout",
     "output_type": "stream",
     "text": [
      "Test accuracy: 0.99\n"
     ]
    }
   ],
   "source": [
    "print('Test accuracy: %.2f' % test_acc)"
   ]
  },
  {
   "cell_type": "markdown",
   "metadata": {},
   "source": [
    "# Craft adversarial examples using Fast Gradient Sign Method (FGSM) attack\n",
    "### Define TF placeholders for the input and output"
   ]
  },
  {
   "cell_type": "code",
   "execution_count": 42,
   "metadata": {},
   "outputs": [],
   "source": [
    "import tensorflow as tf\n",
    "x_test = tf.placeholder(tf.float32, shape=(None,) + X_test.shape[1:])\n",
    "y_test = tf.placeholder(tf.float32, shape=(None,) + Y_test.shape[1:])"
   ]
  },
  {
   "cell_type": "markdown",
   "metadata": {},
   "source": [
    "### Use cleverhans [https://github.com/tensorflow/cleverhans]"
   ]
  },
  {
   "cell_type": "code",
   "execution_count": 44,
   "metadata": {},
   "outputs": [],
   "source": [
    "import keras.backend as K\n",
    "from cleverhans.evaluation import batch_eval\n",
    "from cleverhans.attacks import FastGradientMethod"
   ]
  },
  {
   "cell_type": "markdown",
   "metadata": {},
   "source": [
    "### Wrap the model for cleverhans"
   ]
  },
  {
   "cell_type": "code",
   "execution_count": 92,
   "metadata": {},
   "outputs": [],
   "source": [
    "from cleverhans.utils_keras import KerasModelWrapper\n",
    "model = KerasModelWrapper(model)"
   ]
  },
  {
   "cell_type": "code",
   "execution_count": 63,
   "metadata": {},
   "outputs": [
    {
     "data": {
      "text/plain": [
       "(10000, 28, 28, 1)"
      ]
     },
     "execution_count": 63,
     "metadata": {},
     "output_type": "execute_result"
    }
   ],
   "source": [
    "X_test.shape"
   ]
  },
  {
   "cell_type": "code",
   "execution_count": 93,
   "metadata": {},
   "outputs": [
    {
     "name": "stdout",
     "output_type": "stream",
     "text": [
      "Crafting fgsm adversarial samples...\n",
      "Done\n"
     ]
    }
   ],
   "source": [
    "print('Crafting fgsm adversarial samples...')\n",
    "\n",
    "fgsm = FastGradientMethod(model)\n",
    "fgsm_params = {'eps': 0.3,\n",
    "               'clip_min': 0,\n",
    "               'clip_max': 1}\n",
    "\n",
    "adv_x = fgsm.generate(x_test, **fgsm_params)\n",
    "\n",
    "X_adv, = batch_eval(sess=K.get_session(), tf_inputs=[x_test, y_test], tf_outputs=[adv_x],\n",
    "                    numpy_inputs=[X_test, Y_test], batch_size=100)\n",
    "\n",
    "print('Done')"
   ]
  },
  {
   "cell_type": "markdown",
   "metadata": {},
   "source": [
    "### predict the adversarial labels"
   ]
  },
  {
   "cell_type": "code",
   "execution_count": 95,
   "metadata": {},
   "outputs": [],
   "source": [
    "model = model.model\n",
    "predictions = model.predict(X_adv, batch_size=100, verbose=0)\n",
    "y_pred = np.argmax(predictions, axis=1)\n",
    "Y_adv = np_utils.to_categorical(y_pred, 10)"
   ]
  },
  {
   "cell_type": "markdown",
   "metadata": {},
   "source": [
    "### Save adversarial examples and labels into local files"
   ]
  },
  {
   "cell_type": "code",
   "execution_count": 96,
   "metadata": {},
   "outputs": [],
   "source": [
    "np.save('data/advs_fgsm.npy', X_adv)\n",
    "np.save('data/labels_advs_fgsm.npy', Y_adv)"
   ]
  },
  {
   "cell_type": "markdown",
   "metadata": {},
   "source": [
    "### check predictions on adversarial examples"
   ]
  },
  {
   "cell_type": "code",
   "execution_count": 97,
   "metadata": {},
   "outputs": [
    {
     "name": "stdout",
     "output_type": "stream",
     "text": [
      "Accuracy on clean test set: 99.06%\n",
      "Model accuracy on the adversarial test set: 4.28%\n"
     ]
    }
   ],
   "source": [
    "# model = model.model # switch back to normal model from KerasModelWrapper\n",
    "_, acc = model.evaluate(X_test, Y_test, batch_size=100, verbose=0)\n",
    "print(\"Accuracy on clean test set: %0.2f%%\" % (100*acc))\n",
    "\n",
    "# statistics of the attacks\n",
    "_, acc = model.evaluate(X_adv, Y_test, batch_size=100, verbose=0)\n",
    "print(\"Model accuracy on the adversarial test set: %0.2f%%\" % (100 * acc))\n"
   ]
  },
  {
   "cell_type": "markdown",
   "metadata": {},
   "source": [
    "### check average L2 perturbation"
   ]
  },
  {
   "cell_type": "code",
   "execution_count": 98,
   "metadata": {},
   "outputs": [
    {
     "name": "stdout",
     "output_type": "stream",
     "text": [
      "Average L-2 distortion [FGSM: 6.24]\n"
     ]
    }
   ],
   "source": [
    "l2_diff = np.linalg.norm(\n",
    "    X_adv.reshape((len(X_test), -1)) -\n",
    "    X_test.reshape((len(X_test), -1)),\n",
    "    axis=1\n",
    ").mean()\n",
    "print(\"Average L-2 distortion [%s: %0.2f]\" % ('FGSM', l2_diff))\n"
   ]
  },
  {
   "cell_type": "markdown",
   "metadata": {},
   "source": [
    "### check $L_{\\infty}$ perturbation"
   ]
  },
  {
   "cell_type": "code",
   "execution_count": 99,
   "metadata": {},
   "outputs": [
    {
     "name": "stdout",
     "output_type": "stream",
     "text": [
      "Average L-i distortion [FGSM: 0.30]\n"
     ]
    }
   ],
   "source": [
    "li_diff = np.max(\n",
    "    np.abs(\n",
    "        X_adv.reshape((len(X_test), -1)) -\n",
    "        X_test.reshape((len(X_test), -1))),\n",
    "        axis=0\n",
    ").mean()\n",
    "print(\"Average L-i distortion [%s: %0.2f]\" % ('FGSM', li_diff))\n",
    "\n"
   ]
  },
  {
   "cell_type": "markdown",
   "metadata": {},
   "source": [
    "# Visualize adversarial examples\n",
    "### clean vs advs"
   ]
  },
  {
   "cell_type": "code",
   "execution_count": 100,
   "metadata": {},
   "outputs": [],
   "source": [
    "# define source -> target classes\n",
    "classes = ['0', '1', '2', '3', '4', '5', '6', '7', '8', '9']\n",
    "target_classes = ['3', '9', '3', '0', '5', '8', '8', '9', '5', '7']"
   ]
  },
  {
   "cell_type": "code",
   "execution_count": 106,
   "metadata": {},
   "outputs": [
    {
     "data": {
      "text/plain": [
       "<Figure size 1080x288 with 0 Axes>"
      ]
     },
     "metadata": {},
     "output_type": "display_data"
    }
   ],
   "source": []
  },
  {
   "cell_type": "code",
   "execution_count": 111,
   "metadata": {},
   "outputs": [],
   "source": [
    "# one-hot to integer labels\n",
    "clean_labels = np.argmax(Y_test, axis=1)\n",
    "adv_labels = np.argmax(Y_adv, axis=1)"
   ]
  },
  {
   "cell_type": "code",
   "execution_count": 112,
   "metadata": {},
   "outputs": [
    {
     "data": {
      "text/plain": [
       "array([8, 8, 8, ..., 8, 8, 8])"
      ]
     },
     "execution_count": 112,
     "metadata": {},
     "output_type": "execute_result"
    }
   ],
   "source": [
    "adv_labels"
   ]
  },
  {
   "cell_type": "code",
   "execution_count": 135,
   "metadata": {},
   "outputs": [
    {
     "name": "stdout",
     "output_type": "stream",
     "text": [
      "selected random samples:  [7887, 6254, 1335, 5724, 4258, 4302, 2160, 144, 9817, 7535]\n",
      "[0 1 2 3 4 5 6 7 8 9]\n",
      "[9 8 1 8 8 3 5 3 6 8]\n",
      "\n",
      "Saving figure\n"
     ]
    },
    {
     "data": {
      "image/png": "[encoded data removed]",
      "text/plain": [
       "<Figure size 1080x288 with 20 Axes>"
      ]
     },
     "metadata": {},
     "output_type": "display_data"
    }
   ],
   "source": [
    "import matplotlib.pyplot as plt\n",
    "import matplotlib.gridspec as gridspec\n",
    "\n",
    "# image properties\n",
    "dataset = 'mnist'\n",
    "attack = 'FGSM'\n",
    "n_classes = 10\n",
    "n_channels = 1\n",
    "image_size = 28\n",
    "\n",
    "# find one random image index for each class\n",
    "sample_idxes = []\n",
    "for i in range(n_classes):\n",
    "    ind, = np.where(clean_labels == i)\n",
    "    select = np.random.choice(ind, size=1)\n",
    "    sample_idxes.append(select[0])\n",
    "print('selected random samples: ', sample_idxes)\n",
    "print(clean_labels[sample_idxes])\n",
    "print(adv_labels[sample_idxes])\n",
    "\n",
    "%matplotlib inline\n",
    "# creat the grid plot\n",
    "fig = plt.figure(figsize=(1.5*n_classes, 4))\n",
    "gs = gridspec.GridSpec(2, n_classes, wspace=0.025, hspace=0.05)\n",
    "\n",
    "## plot normal images\n",
    "for i in range(n_classes):\n",
    "    ax = fig.add_subplot(gs[0, i])\n",
    "    img = X_test[sample_idxes[i]]\n",
    "    label = classes[i]\n",
    "    # deal with normalized images [-0.5, 0.5] - already buildin in matplot?\n",
    "    img = img + 0.5\n",
    "    if n_channels == 1:\n",
    "        img = np.reshape(img, (image_size,image_size))\n",
    "        ax.imshow(img, cmap='gray')\n",
    "    else:\n",
    "        img = np.reshape(img, (image_size, image_size, n_channels))\n",
    "        ax.imshow(img)\n",
    "\n",
    "    if ax.is_first_col():\n",
    "        ax.set_ylabel('Clean', fontsize=15)\n",
    "\n",
    "    # Hide the right and top spines\n",
    "    ax.spines['right'].set_visible(False)\n",
    "    ax.spines['top'].set_visible(False)\n",
    "    ax.spines['left'].set_visible(False)\n",
    "    ax.spines['bottom'].set_visible(False)\n",
    "    ax.set_xticks([])\n",
    "    ax.set_yticks([])\n",
    "    ax.set_title(label, fontsize=12)\n",
    "\n",
    "## plot advs images\n",
    "for j in range(n_classes):\n",
    "    img = X_adv[sample_idxes[j]]\n",
    "    label = classes[adv_labels[sample_idxes[j]]]\n",
    "\n",
    "    ax = fig.add_subplot(gs[1, j])\n",
    "    img = img + 0.5\n",
    "    if n_channels == 1:\n",
    "        img = np.reshape(img, (image_size, image_size))\n",
    "    else:\n",
    "        img = np.reshape(img, (image_size, image_size, n_channels))\n",
    "\n",
    "    if n_channels == 1:\n",
    "        ax.imshow(img, cmap='gray')\n",
    "    else:\n",
    "        ax.imshow(img)\n",
    "\n",
    "    if ax.is_first_col():\n",
    "        ax.set_ylabel(attack, fontsize=15)\n",
    "\n",
    "    ax.set_title(label, fontsize=12)\n",
    "    # Hide the right and top spines\n",
    "    ax.spines['right'].set_visible(False)\n",
    "    ax.spines['top'].set_visible(False)\n",
    "    ax.spines['left'].set_visible(False)\n",
    "    ax.spines['bottom'].set_visible(False)\n",
    "    ax.set_xticks([])\n",
    "    ax.set_yticks([])\n",
    "\n",
    "print('\\nSaving figure')\n",
    "# gs.tight_layout(fig) # don't use this - this will writeoff wspace/hspace settings\n",
    "fig.savefig(\"images/%s_%s_clean_advs.png\" % (dataset, attack), dpi=300)\n",
    "plt.show()"
   ]
  },
  {
   "cell_type": "code",
   "execution_count": null,
   "metadata": {},
   "outputs": [],
   "source": []
  },
  {
   "cell_type": "code",
   "execution_count": null,
   "metadata": {},
   "outputs": [],
   "source": []
  },
  {
   "cell_type": "code",
   "execution_count": null,
   "metadata": {},
   "outputs": [],
   "source": []
  },
  {
   "cell_type": "code",
   "execution_count": null,
   "metadata": {},
   "outputs": [],
   "source": []
  }
 ],
 "metadata": {
  "kernelspec": {
   "display_name": "Python 3",
   "language": "python",
   "name": "python3"
  },
  "language_info": {
   "codemirror_mode": {
    "name": "ipython",
    "version": 3
   },
   "file_extension": ".py",
   "mimetype": "text/x-python",
   "name": "python",
   "nbconvert_exporter": "python",
   "pygments_lexer": "ipython3",
   "version": "3.5.6"
  }
 },
 "nbformat": 4,
 "nbformat_minor": 2
}
